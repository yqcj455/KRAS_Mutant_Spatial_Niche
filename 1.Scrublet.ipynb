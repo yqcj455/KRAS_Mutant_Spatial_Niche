{
 "cells": [
  {
   "cell_type": "code",
   "execution_count": 1,
   "id": "61e043b4",
   "metadata": {
    "ExecuteTime": {
     "end_time": "2024-12-15T07:42:40.753067Z",
     "start_time": "2024-12-15T07:42:26.380715Z"
    }
   },
   "outputs": [
    {
     "name": "stderr",
     "output_type": "stream",
     "text": [
      "/home/yqcj/miniconda3/envs/scrublet/lib/python3.9/site-packages/umap/distances.py:1063: NumbaDeprecationWarning: The 'nopython' keyword argument was not supplied to the 'numba.jit' decorator. The implicit default value for this argument is currently False, but it will be changed to True in Numba 0.59.0. See https://numba.readthedocs.io/en/stable/reference/deprecation.html#deprecation-of-object-mode-fall-back-behaviour-when-using-jit for details.\n",
      "  @numba.jit()\n",
      "/home/yqcj/miniconda3/envs/scrublet/lib/python3.9/site-packages/umap/distances.py:1071: NumbaDeprecationWarning: The 'nopython' keyword argument was not supplied to the 'numba.jit' decorator. The implicit default value for this argument is currently False, but it will be changed to True in Numba 0.59.0. See https://numba.readthedocs.io/en/stable/reference/deprecation.html#deprecation-of-object-mode-fall-back-behaviour-when-using-jit for details.\n",
      "  @numba.jit()\n",
      "/home/yqcj/miniconda3/envs/scrublet/lib/python3.9/site-packages/umap/distances.py:1086: NumbaDeprecationWarning: The 'nopython' keyword argument was not supplied to the 'numba.jit' decorator. The implicit default value for this argument is currently False, but it will be changed to True in Numba 0.59.0. See https://numba.readthedocs.io/en/stable/reference/deprecation.html#deprecation-of-object-mode-fall-back-behaviour-when-using-jit for details.\n",
      "  @numba.jit()\n",
      "/home/yqcj/miniconda3/envs/scrublet/lib/python3.9/site-packages/umap/umap_.py:660: NumbaDeprecationWarning: The 'nopython' keyword argument was not supplied to the 'numba.jit' decorator. The implicit default value for this argument is currently False, but it will be changed to True in Numba 0.59.0. See https://numba.readthedocs.io/en/stable/reference/deprecation.html#deprecation-of-object-mode-fall-back-behaviour-when-using-jit for details.\n",
      "  @numba.jit()\n",
      "2024-12-15 15:42:36.512112: I tensorflow/core/platform/cpu_feature_guard.cc:193] This TensorFlow binary is optimized with oneAPI Deep Neural Network Library (oneDNN) to use the following CPU instructions in performance-critical operations:  AVX2 FMA\n",
      "To enable them in other operations, rebuild TensorFlow with the appropriate compiler flags.\n",
      "2024-12-15 15:42:37.110242: W tensorflow/compiler/xla/stream_executor/platform/default/dso_loader.cc:64] Could not load dynamic library 'libcudart.so.11.0'; dlerror: libcudart.so.11.0: cannot open shared object file: No such file or directory\n",
      "2024-12-15 15:42:37.110272: I tensorflow/compiler/xla/stream_executor/cuda/cudart_stub.cc:29] Ignore above cudart dlerror if you do not have a GPU set up on your machine.\n",
      "2024-12-15 15:42:38.964666: W tensorflow/compiler/xla/stream_executor/platform/default/dso_loader.cc:64] Could not load dynamic library 'libnvinfer.so.7'; dlerror: libnvinfer.so.7: cannot open shared object file: No such file or directory\n",
      "2024-12-15 15:42:38.964891: W tensorflow/compiler/xla/stream_executor/platform/default/dso_loader.cc:64] Could not load dynamic library 'libnvinfer_plugin.so.7'; dlerror: libnvinfer_plugin.so.7: cannot open shared object file: No such file or directory\n",
      "2024-12-15 15:42:38.964906: W tensorflow/compiler/tf2tensorrt/utils/py_utils.cc:38] TF-TRT Warning: Cannot dlopen some TensorRT libraries. If you would like to use Nvidia GPU with TensorRT, please make sure the missing libraries mentioned above are installed properly.\n"
     ]
    },
    {
     "name": "stdout",
     "output_type": "stream",
     "text": [
      "scanpy==1.9.3 anndata==0.9.1 umap==0.5.3 numpy==1.24.4 scipy==1.11.1 pandas==1.3.5 scikit-learn==1.3.0 statsmodels==0.14.0 python-igraph==0.10.6 louvain==0.8.0 pynndescent==0.5.10\n"
     ]
    }
   ],
   "source": [
    "%matplotlib inline\n",
    "import scrublet as scr\n",
    "import scipy.io\n",
    "import matplotlib.pyplot as plt\n",
    "import numpy as np\n",
    "import os\n",
    "import pandas as pd\n",
    "import scanpy as sc\n",
    "import gc  # 导入垃圾回收模块\n",
    "from tqdm import tqdm\n",
    "sc.settings.verbosity = 3\n",
    "sc.logging.print_header()\n",
    "sc.set_figure_params(dpi=100, dpi_save=600)"
   ]
  },
  {
   "cell_type": "code",
   "execution_count": 2,
   "id": "b32df442",
   "metadata": {
    "ExecuteTime": {
     "end_time": "2024-12-15T07:53:23.835667Z",
     "start_time": "2024-12-15T07:43:51.700141Z"
    }
   },
   "outputs": [
    {
     "name": "stderr",
     "output_type": "stream",
     "text": [
      "\r\n",
      "Processing folders...:   0%|                                                                                                                        | 0/10 [00:00<?, ?it/s]"
     ]
    },
    {
     "name": "stdout",
     "output_type": "stream",
     "text": [
      "Counts matrix shape: 1472 rows, 30893 columns\n",
      "Number of genes in gene list: 30893\n",
      "Preprocessing...\n"
     ]
    },
    {
     "name": "stderr",
     "output_type": "stream",
     "text": [
      "/home/yqcj/miniconda3/envs/scrublet/lib/python3.9/site-packages/scrublet/helper_functions.py:239: RuntimeWarning: invalid value encountered in log\n",
      "  gLog = lambda input: np.log(input[1] * np.exp(-input[0]) + input[2])\n",
      "/home/yqcj/miniconda3/envs/scrublet/lib/python3.9/site-packages/scrublet/helper_functions.py:252: RuntimeWarning: invalid value encountered in sqrt\n",
      "  CV_input = np.sqrt(b);\n"
     ]
    },
    {
     "name": "stdout",
     "output_type": "stream",
     "text": [
      "Simulating doublets...\n",
      "Embedding transcriptomes using PCA...\n",
      "Calculating doublet scores...\n",
      "Automatically set threshold at doublet score = 0.41\n",
      "Detected doublet rate = 0.2%\n",
      "Estimated detectable doublet fraction = 37.4%\n",
      "Overall doublet rate:\n",
      "\tExpected   = 6.0%\n",
      "\tEstimated  = 0.5%\n",
      "Elapsed time: 2.2 seconds\n"
     ]
    },
    {
     "name": "stderr",
     "output_type": "stream",
     "text": [
      "\r\n",
      "Processing folders...:  10%|███████████▏                                                                                                    | 1/10 [00:30<04:30, 30.05s/it]"
     ]
    },
    {
     "name": "stdout",
     "output_type": "stream",
     "text": [
      "Counts matrix shape: 711 rows, 30893 columns\n",
      "Number of genes in gene list: 30893\n",
      "Preprocessing...\n",
      "Simulating doublets...\n"
     ]
    },
    {
     "name": "stderr",
     "output_type": "stream",
     "text": [
      "/home/yqcj/miniconda3/envs/scrublet/lib/python3.9/site-packages/scrublet/helper_functions.py:239: RuntimeWarning: invalid value encountered in log\n",
      "  gLog = lambda input: np.log(input[1] * np.exp(-input[0]) + input[2])\n",
      "/home/yqcj/miniconda3/envs/scrublet/lib/python3.9/site-packages/scrublet/helper_functions.py:252: RuntimeWarning: invalid value encountered in sqrt\n",
      "  CV_input = np.sqrt(b);\n"
     ]
    },
    {
     "name": "stdout",
     "output_type": "stream",
     "text": [
      "Embedding transcriptomes using PCA...\n",
      "Calculating doublet scores...\n",
      "Automatically set threshold at doublet score = 0.33\n",
      "Detected doublet rate = 0.3%\n",
      "Estimated detectable doublet fraction = 43.9%\n",
      "Overall doublet rate:\n",
      "\tExpected   = 6.0%\n",
      "\tEstimated  = 0.6%\n",
      "Elapsed time: 0.9 seconds\n"
     ]
    },
    {
     "name": "stderr",
     "output_type": "stream",
     "text": [
      "\r\n",
      "Processing folders...:  20%|██████████████████████▍                                                                                         | 2/10 [00:42<02:38, 19.75s/it]"
     ]
    },
    {
     "name": "stdout",
     "output_type": "stream",
     "text": [
      "Counts matrix shape: 3223 rows, 30893 columns\n",
      "Number of genes in gene list: 30893\n",
      "Preprocessing...\n"
     ]
    },
    {
     "name": "stderr",
     "output_type": "stream",
     "text": [
      "/home/yqcj/miniconda3/envs/scrublet/lib/python3.9/site-packages/scrublet/helper_functions.py:239: RuntimeWarning: invalid value encountered in log\n",
      "  gLog = lambda input: np.log(input[1] * np.exp(-input[0]) + input[2])\n",
      "/home/yqcj/miniconda3/envs/scrublet/lib/python3.9/site-packages/scrublet/helper_functions.py:252: RuntimeWarning: invalid value encountered in sqrt\n",
      "  CV_input = np.sqrt(b);\n"
     ]
    },
    {
     "name": "stdout",
     "output_type": "stream",
     "text": [
      "Simulating doublets...\n",
      "Embedding transcriptomes using PCA...\n",
      "Calculating doublet scores...\n",
      "Automatically set threshold at doublet score = 0.52\n",
      "Detected doublet rate = 0.3%\n",
      "Estimated detectable doublet fraction = 15.3%\n",
      "Overall doublet rate:\n",
      "\tExpected   = 6.0%\n",
      "\tEstimated  = 1.8%\n",
      "Elapsed time: 3.9 seconds\n"
     ]
    },
    {
     "name": "stderr",
     "output_type": "stream",
     "text": [
      "\r\n",
      "Processing folders...:  30%|█████████████████████████████████▌                                                                              | 3/10 [01:21<03:20, 28.67s/it]"
     ]
    },
    {
     "name": "stdout",
     "output_type": "stream",
     "text": [
      "Counts matrix shape: 7861 rows, 30893 columns\n",
      "Number of genes in gene list: 30893\n",
      "Preprocessing...\n"
     ]
    },
    {
     "name": "stderr",
     "output_type": "stream",
     "text": [
      "/home/yqcj/miniconda3/envs/scrublet/lib/python3.9/site-packages/scrublet/helper_functions.py:239: RuntimeWarning: invalid value encountered in log\n",
      "  gLog = lambda input: np.log(input[1] * np.exp(-input[0]) + input[2])\n",
      "/home/yqcj/miniconda3/envs/scrublet/lib/python3.9/site-packages/scrublet/helper_functions.py:252: RuntimeWarning: invalid value encountered in sqrt\n",
      "  CV_input = np.sqrt(b);\n"
     ]
    },
    {
     "name": "stdout",
     "output_type": "stream",
     "text": [
      "Simulating doublets...\n",
      "Embedding transcriptomes using PCA...\n",
      "Calculating doublet scores...\n",
      "Automatically set threshold at doublet score = 0.29\n",
      "Detected doublet rate = 1.5%\n",
      "Estimated detectable doublet fraction = 62.8%\n",
      "Overall doublet rate:\n",
      "\tExpected   = 6.0%\n",
      "\tEstimated  = 2.4%\n",
      "Elapsed time: 12.8 seconds\n"
     ]
    },
    {
     "name": "stderr",
     "output_type": "stream",
     "text": [
      "\r\n",
      "Processing folders...:  40%|████████████████████████████████████████████▍                                                                  | 4/10 [06:32<13:59, 139.92s/it]"
     ]
    },
    {
     "name": "stdout",
     "output_type": "stream",
     "text": [
      "Counts matrix shape: 1453 rows, 30893 columns\n",
      "Number of genes in gene list: 30893\n",
      "Preprocessing...\n",
      "Simulating doublets...\n"
     ]
    },
    {
     "name": "stderr",
     "output_type": "stream",
     "text": [
      "/home/yqcj/miniconda3/envs/scrublet/lib/python3.9/site-packages/scrublet/helper_functions.py:252: RuntimeWarning: invalid value encountered in sqrt\n",
      "  CV_input = np.sqrt(b);\n"
     ]
    },
    {
     "name": "stdout",
     "output_type": "stream",
     "text": [
      "Embedding transcriptomes using PCA...\n",
      "Calculating doublet scores...\n",
      "Automatically set threshold at doublet score = 0.42\n",
      "Detected doublet rate = 0.4%\n",
      "Estimated detectable doublet fraction = 16.5%\n",
      "Overall doublet rate:\n",
      "\tExpected   = 6.0%\n",
      "\tEstimated  = 2.5%\n",
      "Elapsed time: 1.5 seconds\n"
     ]
    },
    {
     "name": "stderr",
     "output_type": "stream",
     "text": [
      "\r\n",
      "Processing folders...:  50%|████████████████████████████████████████████████████████                                                        | 5/10 [06:47<07:54, 94.86s/it]"
     ]
    },
    {
     "name": "stdout",
     "output_type": "stream",
     "text": [
      "Counts matrix shape: 1168 rows, 30893 columns\n",
      "Number of genes in gene list: 30893\n",
      "Preprocessing...\n"
     ]
    },
    {
     "name": "stderr",
     "output_type": "stream",
     "text": [
      "/home/yqcj/miniconda3/envs/scrublet/lib/python3.9/site-packages/scrublet/helper_functions.py:239: RuntimeWarning: invalid value encountered in log\n",
      "  gLog = lambda input: np.log(input[1] * np.exp(-input[0]) + input[2])\n",
      "/home/yqcj/miniconda3/envs/scrublet/lib/python3.9/site-packages/scrublet/helper_functions.py:252: RuntimeWarning: invalid value encountered in sqrt\n",
      "  CV_input = np.sqrt(b);\n"
     ]
    },
    {
     "name": "stdout",
     "output_type": "stream",
     "text": [
      "Simulating doublets...\n",
      "Embedding transcriptomes using PCA...\n",
      "Calculating doublet scores...\n",
      "Automatically set threshold at doublet score = 0.39\n",
      "Detected doublet rate = 0.5%\n",
      "Estimated detectable doublet fraction = 34.7%\n",
      "Overall doublet rate:\n",
      "\tExpected   = 6.0%\n",
      "\tEstimated  = 1.5%\n",
      "Elapsed time: 1.4 seconds\n"
     ]
    },
    {
     "name": "stderr",
     "output_type": "stream",
     "text": [
      "\r\n",
      "Processing folders...:  60%|███████████████████████████████████████████████████████████████████▏                                            | 6/10 [07:05<04:35, 68.85s/it]"
     ]
    },
    {
     "name": "stdout",
     "output_type": "stream",
     "text": [
      "Counts matrix shape: 506 rows, 30893 columns\n",
      "Number of genes in gene list: 30893\n",
      "Preprocessing...\n",
      "Simulating doublets...\n",
      "Embedding transcriptomes using PCA...\n"
     ]
    },
    {
     "name": "stderr",
     "output_type": "stream",
     "text": [
      "/home/yqcj/miniconda3/envs/scrublet/lib/python3.9/site-packages/scrublet/helper_functions.py:239: RuntimeWarning: invalid value encountered in log\n",
      "  gLog = lambda input: np.log(input[1] * np.exp(-input[0]) + input[2])\n",
      "/home/yqcj/miniconda3/envs/scrublet/lib/python3.9/site-packages/scrublet/helper_functions.py:252: RuntimeWarning: invalid value encountered in sqrt\n",
      "  CV_input = np.sqrt(b);\n"
     ]
    },
    {
     "name": "stdout",
     "output_type": "stream",
     "text": [
      "Calculating doublet scores...\n",
      "Automatically set threshold at doublet score = 0.30\n",
      "Detected doublet rate = 0.4%\n",
      "Estimated detectable doublet fraction = 5.9%\n",
      "Overall doublet rate:\n",
      "\tExpected   = 6.0%\n",
      "\tEstimated  = 6.7%\n",
      "Elapsed time: 0.6 seconds\n"
     ]
    },
    {
     "name": "stderr",
     "output_type": "stream",
     "text": [
      "\r\n",
      "Processing folders...:  70%|██████████████████████████████████████████████████████████████████████████████▍                                 | 7/10 [07:10<02:24, 48.07s/it]"
     ]
    },
    {
     "name": "stdout",
     "output_type": "stream",
     "text": [
      "Counts matrix shape: 7565 rows, 30893 columns\n",
      "Number of genes in gene list: 30893\n",
      "Preprocessing...\n"
     ]
    },
    {
     "name": "stderr",
     "output_type": "stream",
     "text": [
      "/home/yqcj/miniconda3/envs/scrublet/lib/python3.9/site-packages/scrublet/helper_functions.py:239: RuntimeWarning: invalid value encountered in log\n",
      "  gLog = lambda input: np.log(input[1] * np.exp(-input[0]) + input[2])\n",
      "/home/yqcj/miniconda3/envs/scrublet/lib/python3.9/site-packages/scrublet/helper_functions.py:252: RuntimeWarning: invalid value encountered in sqrt\n",
      "  CV_input = np.sqrt(b);\n"
     ]
    },
    {
     "name": "stdout",
     "output_type": "stream",
     "text": [
      "Simulating doublets...\n",
      "Embedding transcriptomes using PCA...\n",
      "Calculating doublet scores...\n",
      "Automatically set threshold at doublet score = 0.24\n",
      "Detected doublet rate = 2.0%\n",
      "Estimated detectable doublet fraction = 66.3%\n",
      "Overall doublet rate:\n",
      "\tExpected   = 6.0%\n",
      "\tEstimated  = 3.1%\n",
      "Elapsed time: 10.8 seconds\n"
     ]
    },
    {
     "name": "stderr",
     "output_type": "stream",
     "text": [
      "\r\n",
      "Processing folders...:  80%|█████████████████████████████████████████████████████████████████████████████████████████▌                      | 8/10 [08:35<01:59, 59.81s/it]"
     ]
    },
    {
     "name": "stdout",
     "output_type": "stream",
     "text": [
      "Counts matrix shape: 843 rows, 30893 columns\n",
      "Number of genes in gene list: 30893\n",
      "Preprocessing...\n"
     ]
    },
    {
     "name": "stderr",
     "output_type": "stream",
     "text": [
      "/home/yqcj/miniconda3/envs/scrublet/lib/python3.9/site-packages/scrublet/helper_functions.py:252: RuntimeWarning: invalid value encountered in sqrt\n",
      "  CV_input = np.sqrt(b);\n"
     ]
    },
    {
     "name": "stdout",
     "output_type": "stream",
     "text": [
      "Simulating doublets...\n",
      "Embedding transcriptomes using PCA...\n",
      "Calculating doublet scores...\n",
      "Automatically set threshold at doublet score = 0.37\n",
      "Detected doublet rate = 0.5%\n",
      "Estimated detectable doublet fraction = 14.9%\n",
      "Overall doublet rate:\n",
      "\tExpected   = 6.0%\n",
      "\tEstimated  = 3.2%\n",
      "Elapsed time: 0.8 seconds\n"
     ]
    },
    {
     "name": "stderr",
     "output_type": "stream",
     "text": [
      "\r\n",
      "Processing folders...:  90%|████████████████████████████████████████████████████████████████████████████████████████████████████▊           | 9/10 [08:54<00:46, 46.99s/it]"
     ]
    },
    {
     "name": "stdout",
     "output_type": "stream",
     "text": [
      "Counts matrix shape: 2352 rows, 30893 columns\n",
      "Number of genes in gene list: 30893\n",
      "Preprocessing...\n"
     ]
    },
    {
     "name": "stderr",
     "output_type": "stream",
     "text": [
      "/home/yqcj/miniconda3/envs/scrublet/lib/python3.9/site-packages/scrublet/helper_functions.py:239: RuntimeWarning: invalid value encountered in log\n",
      "  gLog = lambda input: np.log(input[1] * np.exp(-input[0]) + input[2])\n",
      "/home/yqcj/miniconda3/envs/scrublet/lib/python3.9/site-packages/scrublet/helper_functions.py:252: RuntimeWarning: invalid value encountered in sqrt\n",
      "  CV_input = np.sqrt(b);\n"
     ]
    },
    {
     "name": "stdout",
     "output_type": "stream",
     "text": [
      "Simulating doublets...\n",
      "Embedding transcriptomes using PCA...\n",
      "Calculating doublet scores...\n",
      "Automatically set threshold at doublet score = 0.47\n",
      "Detected doublet rate = 0.6%\n",
      "Estimated detectable doublet fraction = 22.7%\n",
      "Overall doublet rate:\n",
      "\tExpected   = 6.0%\n",
      "\tEstimated  = 2.4%\n",
      "Elapsed time: 3.3 seconds\n"
     ]
    },
    {
     "name": "stderr",
     "output_type": "stream",
     "text": [
      "Processing folders...: 100%|███████████████████████████████████████████████████████████████████████████████████████████████████████████████| 10/10 [09:32<00:00, 57.21s/it]\n"
     ]
    }
   ],
   "source": [
    "#无子文件夹运行这个\n",
    "\n",
    "base_dir = '/mnt/f/ZJH_KRAS/'\n",
    "input_dir = os.path.join(base_dir, '{}')\n",
    "output_dir = os.path.join(base_dir, '{}/')\n",
    "# 获取所有以 \"GSM\" 开头的文件夹\n",
    "folders = [f for f in os.listdir(base_dir)]\n",
    "for folder in tqdm(folders, desc=\"Processing folders...\"):\n",
    "    try:\n",
    "        input_path = input_dir.format(folder)\n",
    "        output_path = output_dir.format(folder)\n",
    "        os.makedirs(output_path, exist_ok=True)\n",
    "\n",
    "        # 检查Scrublet结果是否已经存在\n",
    "        if os.path.exists(os.path.join(output_path, 'raw_after_Scrublet.h5ad')):\n",
    "            print(f\"{output_path} 已经存在，跳过...\")\n",
    "            continue\n",
    "        # Check if the Scrublet results already exist\n",
    "        # Load counts matrix and gene list\n",
    "        counts_matrix = scipy.io.mmread(os.path.join(input_path, 'matrix.mtx')).T.tocsc()\n",
    "            # 识别features.tsv或genes.tsv文件\n",
    "        features_file = 'features.tsv' if os.path.exists(os.path.join(input_path, 'features.tsv')) else 'genes.tsv'\n",
    "        genes = np.array(scr.load_genes(os.path.join(input_path, features_file), delimiter='\\t', column=1))\n",
    "        print('Counts matrix shape: {} rows, {} columns'.format(counts_matrix.shape[0], counts_matrix.shape[1]))\n",
    "        print('Number of genes in gene list: {}'.format(len(genes)))\n",
    "\n",
    "        # Initialize Scrublet object\n",
    "        scrub = scr.Scrublet(counts_matrix=counts_matrix, sim_doublet_ratio=2.0, n_neighbors=None, expected_doublet_rate=0.06)\n",
    "\n",
    "        # Run the default pipeline\n",
    "        doublet_scores, predicted_doublets = scrub.scrub_doublets(min_counts=2, min_cells=3, min_gene_variability_pctl=85, n_prin_comps=30)\n",
    "\n",
    "        # Get 2-D embedding to visualize the results\n",
    "        scrub.set_embedding('UMAP', scr.get_umap(X=scrub.manifold_obs_, n_neighbors=10, min_dist=0.3))\n",
    "\n",
    "        # Export Scrublet results\n",
    "        barcodes = pd.read_csv(os.path.join(input_path, 'barcodes.tsv'), delimiter='\\t', header=None)\n",
    "        result = pd.DataFrame([barcodes.iloc[:,0], doublet_scores, predicted_doublets], index=[\"barcode\", \"doublet_scores\",\"predicted_doublets\"]).T\n",
    "        result.to_csv(output_path + 'Scrublet_results.csv')\n",
    "\n",
    "        # Save as h5ad after Scrublet\n",
    "        adata = sc.read_mtx(os.path.join(input_path, 'matrix.mtx')).T\n",
    "        adata.var_names = [line.strip() for line in open(os.path.join(input_path, features_file))]\n",
    "        adata.obs_names = [line.strip() for line in open(os.path.join(input_path, 'barcodes.tsv'))]\n",
    "        adata.var_names_make_unique()\n",
    "        Cells=pd.read_csv(output_path + 'Scrublet_results.csv', index_col='barcode')\n",
    "        adata.obs['predicted_doublets']=Cells['predicted_doublets']\n",
    "        SAS=adata[adata.obs['predicted_doublets']==False]\n",
    "        SAS.write(output_path + 'raw_after_Scrublet.h5ad', compression='gzip')\n",
    "        # Clear memory\n",
    "        del counts_matrix, genes, scrub, doublet_scores, predicted_doublets, barcodes, result, adata, Cells\n",
    "        plt.close('all')\n",
    "        gc.collect()\n",
    "    except FileNotFoundError:\n",
    "        print(f\"File not found for {folder}. Skipping...\")\n",
    "        continue"
   ]
  },
  {
   "cell_type": "code",
   "execution_count": null,
   "id": "4ab4801b",
   "metadata": {},
   "outputs": [],
   "source": []
  }
 ],
 "metadata": {
  "kernelspec": {
   "display_name": "scrublet",
   "language": "python",
   "name": "scrublet"
  },
  "language_info": {
   "codemirror_mode": {
    "name": "ipython",
    "version": 3
   },
   "file_extension": ".py",
   "mimetype": "text/x-python",
   "name": "python",
   "nbconvert_exporter": "python",
   "pygments_lexer": "ipython3",
   "version": "3.9.16"
  },
  "toc": {
   "base_numbering": 1,
   "nav_menu": {},
   "number_sections": true,
   "sideBar": false,
   "skip_h1_title": false,
   "title_cell": "Table of Contents",
   "title_sidebar": "Contents",
   "toc_cell": false,
   "toc_position": {},
   "toc_section_display": true,
   "toc_window_display": false
  }
 },
 "nbformat": 4,
 "nbformat_minor": 5
}
